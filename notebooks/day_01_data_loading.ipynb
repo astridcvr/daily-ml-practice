```json
{
 "cells": [
  {
   "cell_type": "markdown",
   "metadata": {},
   "source": [
    "# Day 01 – Data Loading / Chargement des données\n",
    "\n",
    "**English**: First step: load the local CSV file.  \n",
    "**Français**: Première étape : charger le fichier CSV local.\n",
    "\n",
    "---\n",
    "\n",
    "## Dataset: Sample Sales Data\n",
    "- **Archivo / File**: `data/SalesJan2009.csv`\n",
    "- **Source**: [Kaggle](https://www.kaggle.com/datasets/kyanyoga/sample-sales-data)"
   ]
  },
  {
   "cell_type": "code",
   "execution_count": null,
   "metadata": {},
   "outputs": [],
   "source": [
    "# English: Import libraries / Français: Importer les bibliothèques\n",
    "import pandas as pd\n",
    "\n",
    "# English: Load local CSV / Français: Charger le CSV local\n",
    "df = pd.read_csv('../data/SalesJan2009.csv')\n",
    "\n",
    "# English: Quick view / Français: Aperçu rapide\n",
    "print(\"Premières lignes / First 5 rows:\")\n",
    "print(df.head())\n",
    "\n",
    "print(f\"\\nShape: {df.shape} (lignes, colonnes) / (rows, columns)\")\n/ev",
    "print(f\"Colonnes / Columns: {df.columns.tolist()}\")"
   ]
  },
  {
   "cell_type": "markdown",
   "metadata": {},
   "source": [
    "---\n",
    "**Commit du jour fait ! / Daily commit done!**\n",
    "\n",
    "Prochain jour / Next day: `day_02_eda.ipynb`"
   ]
  }
 ],
 "metadata": {
  "kernelspec": {
   "display_name": "Python 3",
   "language": "python",
   "name": "python3"
  }
 },
 "nbformat": 4,
 "nbformat_minor": 2
}
