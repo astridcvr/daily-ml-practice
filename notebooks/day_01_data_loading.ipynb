{
 "cells": [
  {
   "cell_type": "markdown",
   "metadata": {},
   "source": [
    "# Day 01 – Data Loading / Chargement des données\n",
    "\n",
    "**English**: First step in any ML project: load the sales data.  \n",
    "**Français**: Première étape de tout projet ML : charger les données de ventes.\n",
    "\n",
    "---\n",
    "\n",
    "## Dataset: Sample Sales Data (E-commerce)\n",
    "- **Source**: [Kaggle](https://www.kaggle.com/datasets/kyanyoga/sample-sales-data)\n",
    "- **Goal**: Analyze sales trends by country, product, and time\n",
    "- **URL**: `https://raw.githubusercontent.com/kyanyoga/sample-data/master/SalesJan2009.csv`"
   ]
  },
  {
   "cell_type": "code",
   "execution_count": null,
   "metadata": {},
   "outputs": [],
   "source": [
    "# English: Import libraries / Français: Importer les bibliothèques\n",
    "import pandas as pd\n",
    "\n",
    "# English: Load sales data from URL / Français: Charger les données de ventes depuis une URL\n",
    "url = \"https://raw.githubusercontent.com/kyanyoga/sample-data/master/SalesJan2009.csv\"\n",
    "df = pd.read_csv(url)\n",
    "\n",
    "# English: Quick view / Français: Aperçu rapide\n",
    "print(\"Premières lignes / First 5 rows:\")\n",
    "print(df.head())\n",
    "\n",
    "print(f\"\\nShape: {df.shape} (lignes, colonnes) / (rows, columns)\")\n",
    "print(f\"Colonnes disponibles / Available columns:\\n{df.columns.tolist()}\")"
   ]
  },
  {
   "cell_type": "markdown",
   "metadata": {},
   "source": [
    "---\n",
    "**Commit du jour fait ! / Daily commit done!**\n",
    "\n",
    "Prochain jour / Next day: `day_02_eda.ipynb` – Explore sales by country and product."
   ]
  }
 ],
 "metadata": {
  "kernelspec": {
   "display_name": "Python 3",
   "language": "python",
   "name": "python3"
  },
  "language_info": {
   "name": "python",
   "version": "3.11"
  }
 },
 "nbformat": 4,
 "nbformat_minor": 2
}
